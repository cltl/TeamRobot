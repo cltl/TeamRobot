{
 "cells": [
  {
   "cell_type": "code",
   "execution_count": null,
   "metadata": {
    "collapsed": true
   },
   "outputs": [],
   "source": [
    "###############################################\n",
    "# Mohammed Yassine Karimi\n",
    "# Computational Lexicology & Terminology Lab\n",
    "# Vrije Universiteit Amsterdam\n",
    "# Robot Presenter Jelle Brandt Corstius\n",
    "##############################################"
   ]
  },
  {
   "cell_type": "code",
   "execution_count": 13,
   "metadata": {
    "collapsed": false
   },
   "outputs": [],
   "source": [
    "import spacy\n",
    "import json\n",
    "import sys\n",
    "import os\n",
    "import IPython\n",
    "from ipywidgets import widgets\n",
    "from IPython.display import display"
   ]
  },
  {
   "cell_type": "code",
   "execution_count": 14,
   "metadata": {
    "collapsed": true
   },
   "outputs": [],
   "source": [
    "nlp = spacy.load('en')   "
   ]
  },
  {
   "cell_type": "code",
   "execution_count": 15,
   "metadata": {
    "collapsed": false
   },
   "outputs": [],
   "source": [
    "#Create the input the pipeline will proces\n",
    "json_schema = 'sample_input.json'\n",
    "text_from_demo = ''"
   ]
  },
  {
   "cell_type": "code",
   "execution_count": 16,
   "metadata": {
    "collapsed": false,
    "scrolled": false
   },
   "outputs": [],
   "source": [
    "def demo_text():\n",
    "    global text_widget\n",
    "    text_widget = widgets.Text()\n",
    "    display(text_widget)\n",
    "    def handle_submit(sender):\n",
    "        print(text_widget.value)        \n",
    "    text_widget.on_submit(handle_submit)\n",
    "demo_text()"
   ]
  },
  {
   "cell_type": "code",
   "execution_count": 17,
   "metadata": {
    "collapsed": false
   },
   "outputs": [
    {
     "name": "stdout",
     "output_type": "stream",
     "text": [
      "\n"
     ]
    }
   ],
   "source": [
    "print(text_widget.value)"
   ]
  },
  {
   "cell_type": "code",
   "execution_count": 18,
   "metadata": {
    "collapsed": false
   },
   "outputs": [],
   "source": [
    "#FUNCTION A: creates a text input from an argument which has to be typed in the following form:\n",
    "#################  \"Hello, this is a new sentence. And this is a newer one\"\n",
    "def choose_text_input():\n",
    "    global text_for_pipeline\n",
    "    text_from_commandline = str(sys.argv[1:])\n",
    "    if \"-f\" in text_from_commandline:\n",
    "        text_for_pipeline = text_widget.value\n",
    "        #print(text_for_pipeline)\n",
    "    elif text_from_commandline:\n",
    "        text_clean = text_from_commandline.replace(\"[\",\"\")\n",
    "        text_cleaner = text_clean.replace(\"'\",\"\")\n",
    "        text_for_pipeline = text_cleaner.replace(\"]\",\"\")\n",
    "        return text_for_pipeline"
   ]
  },
  {
   "cell_type": "code",
   "execution_count": 19,
   "metadata": {
    "collapsed": false,
    "scrolled": true
   },
   "outputs": [],
   "source": [
    "#FUNCTION B: loads a file of .json-format, in order to read the \"text input\"-value and to modify it. \n",
    "def read_json_metadata():\n",
    "    global robot_metadata\n",
    "    global text_for_spacy\n",
    "    with open(json_schema, 'r+') as robot_metadata:\n",
    "        received_data = json.load(robot_metadata)\n",
    "        text_from_json = received_data[\"metadata\"][\"input_text\"]\n",
    "        if text_from_json != 'None':\n",
    "            received_data[\"metadata\"][\"input_text\"] = text_for_pipeline\n",
    "            text_for_spacy = received_data[\"metadata\"][\"input_text\"]\n",
    "            robot_metadata.seek(0)\n",
    "            robot_metadata.write(json.dumps(received_data))\n",
    "            robot_metadata.truncate()\n",
    "            print('Dit is de text voor SpaCy', text_for_spacy)"
   ]
  },
  {
   "cell_type": "code",
   "execution_count": 20,
   "metadata": {
    "collapsed": false
   },
   "outputs": [
    {
     "name": "stdout",
     "output_type": "stream",
     "text": [
      "Dit is de text voor SpaCy \n"
     ]
    }
   ],
   "source": [
    "#PROCESSING SEQUENCE 1: Execute all the functions\n",
    "choose_text_input()\n",
    "read_json_metadata()"
   ]
  },
  {
   "cell_type": "code",
   "execution_count": 21,
   "metadata": {
    "collapsed": false
   },
   "outputs": [
    {
     "data": {
      "text/plain": [
       "''"
      ]
     },
     "execution_count": 21,
     "metadata": {},
     "output_type": "execute_result"
    }
   ],
   "source": [
    "#Process the text with the SpaCy Pipeline \n",
    "doc = nlp(text_for_spacy)  \n",
    "doc.text"
   ]
  },
  {
   "cell_type": "code",
   "execution_count": 46,
   "metadata": {
    "collapsed": false
   },
   "outputs": [],
   "source": [
    "#class Semantic():\n",
    "#    def keywords\n",
    "#        def keywords\n",
    "#        def organisations\n",
    "#        def people\n",
    "#        def places\n",
    "#        def topics\n",
    "#class Emotion():\n",
    "#   def detect_emotion\n",
    "#    def information_state\n",
    "#class Structure\n",
    "#    \"structure\": {\n",
    "#        \"prepositional_phrases_count\": {\n",
    "#        \"adjective_count\": {\n",
    "#        \"non_future\": {\n",
    " #       \"active_sentences\": {\n",
    "  #      \"personal_pronouns\": {\n",
    "   #     \"word_length\": {\n",
    "    #    \"negations\": {\n",
    "     #   \"adverbs\": {\n",
    "      #  \"passive_sentences\": {\n",
    "      #  \"number_of_sentences\": {\n",
    "      #  \"future\": {\n",
    "      #  \"wordcount\": {\n",
    "\n"
   ]
  },
  {
   "cell_type": "code",
   "execution_count": null,
   "metadata": {
    "collapsed": false
   },
   "outputs": [],
   "source": [
    "\n"
   ]
  },
  {
   "cell_type": "code",
   "execution_count": null,
   "metadata": {
    "collapsed": true
   },
   "outputs": [],
   "source": []
  },
  {
   "cell_type": "code",
   "execution_count": null,
   "metadata": {
    "collapsed": true
   },
   "outputs": [],
   "source": []
  },
  {
   "cell_type": "code",
   "execution_count": null,
   "metadata": {
    "collapsed": true
   },
   "outputs": [],
   "source": []
  },
  {
   "cell_type": "code",
   "execution_count": null,
   "metadata": {
    "collapsed": true
   },
   "outputs": [],
   "source": []
  },
  {
   "cell_type": "code",
   "execution_count": null,
   "metadata": {
    "collapsed": true
   },
   "outputs": [],
   "source": []
  },
  {
   "cell_type": "code",
   "execution_count": null,
   "metadata": {
    "collapsed": true
   },
   "outputs": [],
   "source": []
  },
  {
   "cell_type": "code",
   "execution_count": null,
   "metadata": {
    "collapsed": true
   },
   "outputs": [],
   "source": []
  }
 ],
 "metadata": {
  "kernelspec": {
   "display_name": "Python 3",
   "language": "python",
   "name": "python3"
  },
  "language_info": {
   "codemirror_mode": {
    "name": "ipython",
    "version": 3
   },
   "file_extension": ".py",
   "mimetype": "text/x-python",
   "name": "python",
   "nbconvert_exporter": "python",
   "pygments_lexer": "ipython3",
   "version": "3.5.1"
  }
 },
 "nbformat": 4,
 "nbformat_minor": 0
}
