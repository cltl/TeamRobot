{
 "cells": [
  {
   "cell_type": "code",
   "execution_count": null,
   "metadata": {
    "collapsed": false
   },
   "outputs": [],
   "source": [
    "import json\n",
    "import sys\n",
    "import glob\n",
    "import nltk\n",
    "import operator\n",
    "import math\n",
    "from random import randint\n",
    "from nltk.corpus import stopwords\n",
    "stopword_list = stopwords.words('english')"
   ]
  },
  {
   "cell_type": "code",
   "execution_count": null,
   "metadata": {
    "collapsed": false
   },
   "outputs": [],
   "source": [
    "text = \"american american american american american american american american american american american american american american american american american american american american american american american american american candidate candidate candidate candid\"\n",
    "list_of_idf_files = \"dbpedia_res/idf_light.tsv\", \"dbpedia_res/idf_dark.tsv\", \"dbpedia_res/idf_non.tsv\"\n",
    "list_of_json_files = [\"dbpedia_res/light.json\", \"dbpedia_res/dark.json\", \"dbpedia_res/non.json\"]"
   ]
  },
  {
   "cell_type": "code",
   "execution_count": null,
   "metadata": {
    "collapsed": false
   },
   "outputs": [],
   "source": [
    "def create_concept_dictionaries(list_of_json_files):\n",
    "    list_of_dict = []\n",
    "    for json_file in list_of_json_files:\n",
    "        jsonfile = open(json_file)\n",
    "        json_dict = json.load(jsonfile)\n",
    "        list_of_dict.append(json_dict)\n",
    "    return list_of_dict"
   ]
  },
  {
   "cell_type": "code",
   "execution_count": null,
   "metadata": {
    "collapsed": false
   },
   "outputs": [],
   "source": [
    "def concept_indexer(source):\n",
    "    target_index = {}\n",
    "    for dict_per_category in source:\n",
    "        for instance in dict_per_category['instance']:\n",
    "            concept_dict = {}\n",
    "            instance_type = instance['instance']\n",
    "            name = instance['uri'].split(\"/\")[-1].lower().replace(\"_\",\" \").replace(\"+\",\" \")\n",
    "            labels = []\n",
    "            for label_caps in instance['labels']:\n",
    "                labels.append(label_caps.lower())\n",
    "            types = []\n",
    "            for type_ in instance['types']:\n",
    "                types.append(type_.split(\"/\")[-1])\n",
    "            concept_dict.update({\"types\":types})\n",
    "            concept_dict.update({\"labels\":labels})\n",
    "            target_index[name] = concept_dict\n",
    "    return target_index"
   ]
  },
  {
   "cell_type": "code",
   "execution_count": null,
   "metadata": {
    "collapsed": false
   },
   "outputs": [],
   "source": [
    "def term_idf_indexer(list_of_idf_files):\n",
    "    for idf_file in list_of_idf_files:\n",
    "        idf_score_data = open(idf_file)\n",
    "        term_idf_index = {}\n",
    "        for line in idf_score_data.readlines():\n",
    "            term_dict = {} \n",
    "            term,idf_score = line.strip(\"\\n\").split(\"\\t\")\n",
    "            #term_dict[\"term\"] = term\n",
    "            term_dict[\"idfscore\"] = idf_score            \n",
    "            term_dict[\"category\"] = idf_file\n",
    "            term_idf_index[term] = term_dict\n",
    "        return term_idf_index"
   ]
  },
  {
   "cell_type": "code",
   "execution_count": null,
   "metadata": {
    "collapsed": false
   },
   "outputs": [],
   "source": [
    "def input_indexer(input_text):\n",
    "    input_index = {}\n",
    "    for term in text.split(\" \"):\n",
    "        if term not in stopwords.words('english'):\n",
    "            input_index[term] = text.split(\" \").count(term)\n",
    "    return input_index "
   ]
  },
  {
   "cell_type": "code",
   "execution_count": null,
   "metadata": {
    "collapsed": false
   },
   "outputs": [],
   "source": [
    "def match_terms(input_index, term_idf_index):\n",
    "    matched_terms_dict = {}\n",
    "    for term_input, tf in input_index.items():\n",
    "        for term_index, attrib in term_idf_index.items(): \n",
    "            if term_input == term_index:\n",
    "                matched_term = {}\n",
    "                matched_terms_dict[term_input] = matched_term\n",
    "                tf_calc, idf_calc = float(tf), float(attrib['idfscore'])\n",
    "                tf_idf = tf_calc * idf_calc\n",
    "                matched_term[\"tf-idf\"] = tf_idf\n",
    "    return matched_terms_dict    "
   ]
  },
  {
   "cell_type": "code",
   "execution_count": null,
   "metadata": {
    "collapsed": false
   },
   "outputs": [],
   "source": [
    "def xpath_get(mydict, path):\n",
    "    elem = mydict\n",
    "    try:\n",
    "        for x in path.strip(\"/\").split(\"/\"):\n",
    "            elem = elem.get(x)\n",
    "    except:\n",
    "        pass\n",
    "    return elem"
   ]
  },
  {
   "cell_type": "code",
   "execution_count": 58,
   "metadata": {
    "collapsed": false
   },
   "outputs": [],
   "source": [
    "def define_respons_concept(matched_terms_dic):\n",
    "    interesting_concept = max(matched_terms_dic, key=lambda i: [1])\n",
    "    types = []\n",
    "    typesdict = {}\n",
    "    for concept,attributes in concept_index.items():\n",
    "        for label in attributes['labels']:\n",
    "            if interesting_concept == label:\n",
    "                for type_ in attributes['types']:\n",
    "                    types.append(type_)\n",
    "    for type_ in types:\n",
    "        typesdict[type_] = types.count(type_)\n",
    "    interesting_type = max(typesdict, key=lambda i: [1])\n",
    "    return interesting_concept, interesting_type"
   ]
  },
  {
   "cell_type": "code",
   "execution_count": 61,
   "metadata": {
    "collapsed": false
   },
   "outputs": [],
   "source": [
    "list_of_dict = create_concept_dictionaries(list_of_json_files)\n",
    "concept_index = concept_indexer(list_of_dict)\n",
    "term_idf_index = term_idf_indexer(list_of_idf_files)\n",
    "input_index = input_indexer(text)\n",
    "matched_terms_dic = match_terms(input_index, term_idf_index)\n",
    "concept, category_type = define_respons_concept(matched_terms_dic)"
   ]
  },
  {
   "cell_type": "code",
   "execution_count": 62,
   "metadata": {
    "collapsed": false
   },
   "outputs": [
    {
     "name": "stdout",
     "output_type": "stream",
     "text": [
      "american PopulatedPlace\n"
     ]
    }
   ],
   "source": [
    "print(concept, category_type)"
   ]
  },
  {
   "cell_type": "code",
   "execution_count": null,
   "metadata": {
    "collapsed": false
   },
   "outputs": [],
   "source": []
  },
  {
   "cell_type": "code",
   "execution_count": null,
   "metadata": {
    "collapsed": true
   },
   "outputs": [],
   "source": []
  }
 ],
 "metadata": {
  "kernelspec": {
   "display_name": "Python 3",
   "language": "python",
   "name": "python3"
  }
 },
 "nbformat": 4,
 "nbformat_minor": 2
}
